{
 "cells": [
  {
   "cell_type": "markdown",
   "id": "f359fa7a-9880-4028-968d-ee47059ba3e6",
   "metadata": {},
   "source": [
    "# DocsGPT"
   ]
  },
  {
   "cell_type": "code",
   "execution_count": 2,
   "id": "726b4f68-0ba1-4b44-89e0-e29a0ccede98",
   "metadata": {
    "tags": []
   },
   "outputs": [],
   "source": [
    "import os\n",
    "import chromadb\n",
    "import tiktoken\n",
    "import subprocess\n",
    "from langchain.document_loaders import TextLoader\n",
    "from langchain.indexes import VectorstoreIndexCreator\n",
    "\n",
    "DATA_DIR = './data'"
   ]
  },
  {
   "cell_type": "markdown",
   "id": "3d61d00a-510d-4fdc-8b0a-7609c3da0967",
   "metadata": {},
   "source": [
    "## Load the data"
   ]
  },
  {
   "cell_type": "code",
   "execution_count": 3,
   "id": "da096e24-eeab-4952-8256-ab1a915c0362",
   "metadata": {
    "tags": []
   },
   "outputs": [
    {
     "name": "stdout",
     "output_type": "stream",
     "text": [
      "Directory './data/docs' already exists. Performing git pull instead.\n",
      "Already up to date.\n"
     ]
    }
   ],
   "source": [
    "# Clone the Kubecost \"Docs\" repo\n",
    "repository_url = 'https://github.com/kubecost/docs.git'\n",
    "target_directory = DATA_DIR + '/docs'\n",
    "\n",
    "if os.path.exists(target_directory):\n",
    "    print(f\"Directory '{target_directory}' already exists. Performing git pull instead.\")\n",
    "    subprocess.run(['cd', target_directory], shell=True)\n",
    "    subprocess.run(['git', 'pull'], cwd=target_directory)\n",
    "else:\n",
    "    subprocess.run(['git', 'clone', '-q', repository_url, target_directory])"
   ]
  },
  {
   "cell_type": "code",
   "execution_count": 4,
   "id": "e417b03d-e380-4593-a239-bd4d6772eac7",
   "metadata": {},
   "outputs": [
    {
     "name": "stdout",
     "output_type": "stream",
     "text": [
      "./data/state_of_the_union.txt\n",
      "./data/docs/http-profiling.md\n",
      "./data/docs/storage.md\n",
      "./data/docs/contactus.md\n",
      "./data/docs/assets.md\n",
      "./data/docs/secondary-clusters.md\n",
      "./data/docs/api-request-right-sizing-v2.md\n",
      "./data/docs/prometheus.md\n",
      "./data/docs/api-request-right-sizing.md\n",
      "./data/docs/allocation.md\n",
      "./data/docs/user-metrics.md\n",
      "./data/docs/architecture.md\n",
      "./data/docs/node-pricing.md\n",
      "./data/docs/asset-diff.md\n",
      "./data/docs/kubecost-cloud-architecture.md\n",
      "./data/docs/long-term-storage-aws.md\n",
      "./data/docs/ksm-metrics.md\n",
      "./data/docs/savings.md\n",
      "./data/docs/federated-etl.md\n",
      "./data/docs/long-term-storage.md\n",
      "./data/docs/cost-model-deprecated.md\n",
      "./data/docs/csv-pricing.md\n",
      "./data/docs/add-key.md\n",
      "./data/docs/install-on-plural.md\n",
      "./data/docs/resource-consumption.md\n",
      "./data/docs/saved-reports.md\n",
      "./data/docs/open-source-deps.md\n",
      "./data/docs/custom-grafana.md\n",
      "./data/docs/SUMMARY.md\n",
      "./data/docs/sharing-etl-backups.md\n",
      "./data/docs/troubleshoot-install.md\n",
      "./data/docs/user-management.md\n",
      "./data/docs/audit-api.md\n",
      "./data/docs/rafay.md\n",
      "./data/docs/api-events.md\n",
      "./data/docs/aws-cloud-integrations.md\n",
      "./data/docs/staging.md\n",
      "./data/docs/filters-api.md\n",
      "./data/docs/namespace-contacts.md\n",
      "./data/docs/context-switcher.md\n",
      "./data/docs/apis-overview.md\n",
      "./data/docs/aws-marketplace-install.md\n",
      "./data/docs/efficiency-idle.md\n",
      "./data/docs/istio-rancher.md\n",
      "./data/docs/spinnaker-custom-webhook.md\n",
      "./data/docs/app-memory.md\n",
      "./data/docs/release-process.md\n",
      "./data/docs/cluster-health-score.md\n",
      "./data/docs/thanos-setup.md\n",
      "./data/docs/api-request-recommendation-apply.md\n",
      "./data/docs/multi-cluster.md\n",
      "./data/docs/opencost-product-comparison.md\n",
      "./data/docs/windows.md\n",
      "./data/docs/containerstats-pipeline.md\n",
      "./data/docs/install.md\n",
      "./data/docs/bug-bounty-program.md\n",
      "./data/docs/continuous-request-sizing.md\n",
      "./data/docs/assets-api.md\n",
      "./data/docs/spot-checklist.md\n",
      "./data/docs/annotations.md\n",
      "./data/docs/grafana-cloud-integration.md\n",
      "./data/docs/aws-service-account-thanos.md\n",
      "./data/docs/gpu-allocation.md\n",
      "./data/docs/long-term-storage-azure.md\n",
      "./data/docs/bug-report.md\n",
      "./data/docs/availability-tiers.md\n",
      "./data/docs/http-troubleshooting.md\n",
      "./data/docs/aws-spot-instances.md\n",
      "./data/docs/gcp-out-of-cluster.md\n",
      "./data/docs/README.md\n",
      "./data/docs/code-contribution.md\n",
      "./data/docs/controller.md\n",
      "./data/docs/long-term-storage-gcp.md\n",
      "./data/docs/spot-cluster-sizing.md\n",
      "./data/docs/alibaba-install.md\n",
      "./data/docs/azure-out-of-cluster.md\n",
      "./data/docs/google-service-account-thanos.md\n",
      "./data/docs/helm-install-params.md\n",
      "./data/docs/ingress-examples.md\n",
      "./data/docs/network-allocation.md\n",
      "./data/docs/index.md\n",
      "./data/docs/cloud-integration.md\n",
      "./data/docs/custom-prom.md\n",
      "./data/docs/federated-etl-backups-alerting.md\n",
      "./data/docs/gcp-gmp-integration.md\n",
      "./data/docs/alerts.md\n",
      "./data/docs/azure-config.md\n",
      "./data/docs/openshift-kubecost-install.md\n",
      "./data/docs/audits.md\n",
      "./data/docs/api-abandoned-workloads.md\n",
      "./data/docs/cost-events-audit-api.md\n",
      "./data/docs/outages.md\n",
      "./data/docs/aws-eks-cost-monitoring.md\n",
      "./data/docs/api-persistent-volume-right-sizing.md\n",
      "./data/docs/network-costs-configuration.md\n",
      "./data/docs/user-management-oidc.md\n",
      "./data/docs/thanos-upgrade.md\n",
      "./data/docs/turndown-schedule-migration-guide.md\n",
      "./data/docs/aws-out-of-cluster.md\n",
      "./data/docs/etl-backup.md\n",
      "./data/docs/diagnostics.md\n",
      "./data/docs/aws-amp-integration.md\n",
      "./data/docs/advanced-reports.md\n",
      "./data/docs/air-gapped.md\n",
      "./data/docs/openshift-operatorhub-kubecost-install.md\n",
      "./data/docs/ports.md\n",
      "./data/docs/security.md\n",
      "./data/docs/aws-node-price-reconcilitation-methodology.md\n",
      "./data/docs/multi-cloud.md\n",
      "./data/docs/auto-request-sizing.md\n",
      "./data/docs/etl-repair.md\n",
      "./data/docs/high-availability.md\n",
      "./data/docs/install-and-configure/install/environment.md\n",
      "./data/docs/install-and-configure/install/getting-started.md\n",
      "./data/docs/install-and-configure/install/etl-backup/query-service-replicas.md\n",
      "./data/docs/install-and-configure/install/provider-installations/README.md\n",
      "./data/docs/install-and-configure/install/long-term-storage/azure/README.md\n",
      "./data/docs/install-and-configure/install/long-term-storage/gcp/README.md\n",
      "./data/docs/install-and-configure/install/long-term-storage/aws/README.md\n",
      "./data/docs/install-and-configure/advanced-configuration/README.md\n",
      "./data/docs/install-and-configure/advanced-configuration/data-status-metrics.md\n",
      "./data/docs/apis/deprecated-apis/README.md\n",
      "./data/docs/apis/apis-overview/allocation-trends-api.md\n",
      "./data/docs/apis/apis-overview/spec-cost-prediction-api.md\n",
      "./data/docs/apis/apis-overview/cloud-cost-api.md\n",
      "./data/docs/apis/apis-overview/budget-api.md\n",
      "./data/docs/using-kubecost/kubecost-data-audit/azure-kubecost-data-audit.md\n",
      "./data/docs/using-kubecost/kubecost-data-audit/README.md\n",
      "./data/docs/using-kubecost/kubecost-data-audit/aws-kubecost-data-audit.md\n",
      "./data/docs/using-kubecost/navigating-the-kubecost-ui/README.md\n",
      "./data/docs/using-kubecost/navigating-the-kubecost-ui/savings/auto-request-sizing/one-click-request-sizing.md\n",
      "./data/docs/using-kubecost/navigating-the-kubecost-ui/cost-allocation/README.md\n",
      "./data/docs/using-kubecost/getting-started/budgets.md\n",
      "./data/docs/using-kubecost/getting-started/cloud-cost-explorer.md\n",
      "./data/docs/using-kubecost/getting-started/clusters-dashboard.md\n",
      "./data/docs/using-kubecost/getting-started/auditing.md\n",
      "./data/docs/using-kubecost/getting-started/standardizing-kubernetes-cost-allocation.md\n",
      "./data/docs/using-kubecost/getting-started/cloud-costs-explorer.md\n",
      "./data/docs/using-kubecost/getting-started/auto-request-sizing/guide-1-click-request-sizing.md\n",
      "./data/docs/setup/frequently-asked-questions.md\n",
      "./data/docs/troubleshooting/kubecost-glossary.md\n",
      "./data/docs/troubleshooting/capture-a-har-file.md\n",
      "./data/docs/integrations/gluu-server-with-oidc-configuration-guide.md\n",
      "./data/.ipynb_checkpoints/state_of_the_union-checkpoint.txt\n"
     ]
    }
   ],
   "source": [
    "loaders = []\n",
    "\n",
    "# Recursively load all \".md\" and \".txt\" files from DATA_DIR\n",
    "for root, dirs, files in os.walk(DATA_DIR):\n",
    "    for file in files:\n",
    "        file_path = os.path.join(root, file)\n",
    "        if \".md\" in file_path or \".txt\" in file_path:\n",
    "            print(file_path)\n",
    "            loaders.append(TextLoader(file_path, encoding='utf8'))"
   ]
  },
  {
   "cell_type": "markdown",
   "id": "acdc019a-5b54-43aa-b806-2e44eff009a5",
   "metadata": {},
   "source": [
    "## Create a vectorstore index"
   ]
  },
  {
   "cell_type": "code",
   "execution_count": 5,
   "id": "427c70ac-5052-4e31-a80f-5fee54e753a7",
   "metadata": {},
   "outputs": [
    {
     "name": "stderr",
     "output_type": "stream",
     "text": [
      "Using embedded DuckDB without persistence: data will be transient\n"
     ]
    }
   ],
   "source": [
    "index = VectorstoreIndexCreator().from_loaders(loaders)"
   ]
  },
  {
   "cell_type": "markdown",
   "id": "66870514-1bf1-4684-bfba-474190f6fda5",
   "metadata": {},
   "source": [
    "## Query the index"
   ]
  },
  {
   "cell_type": "code",
   "execution_count": 6,
   "id": "decfb20f-bb5e-4ee0-bbc7-c9b66c6d67a1",
   "metadata": {},
   "outputs": [
    {
     "data": {
      "text/plain": [
       "{'question': \"I've just installed my cloud billing integration, but I don't see any reconciled prices. Why?\",\n",
       " 'answer': ' You may need to verify that the Helm values of `kubecostModel.etlCloudUsage` or `kubecostModel.etlCloudAsset` are not set to false. Cloud billing data may also lag by 24-48 hours.\\n',\n",
       " 'sources': './data/docs/cloud-integration.md, ./data/docs/setup/frequently-asked-questions.md, ./data/docs/assets.md'}"
      ]
     },
     "execution_count": 6,
     "metadata": {},
     "output_type": "execute_result"
    }
   ],
   "source": [
    "# Query the index\n",
    "query = \"What should my cloud-integration.json secret look like?\"\n",
    "query = \"I've just installed my cloud billing integration, but I don't see any reconciled prices. Why?\"\n",
    "index.query_with_sources(query)"
   ]
  }
 ],
 "metadata": {
  "kernelspec": {
   "display_name": "Python 3 (ipykernel)",
   "language": "python",
   "name": "python3"
  },
  "language_info": {
   "codemirror_mode": {
    "name": "ipython",
    "version": 3
   },
   "file_extension": ".py",
   "mimetype": "text/x-python",
   "name": "python",
   "nbconvert_exporter": "python",
   "pygments_lexer": "ipython3",
   "version": "3.11.3"
  }
 },
 "nbformat": 4,
 "nbformat_minor": 5
}
